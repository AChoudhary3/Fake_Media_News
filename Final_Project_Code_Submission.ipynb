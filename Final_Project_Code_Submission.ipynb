{
 "cells": [
  {
   "cell_type": "markdown",
   "metadata": {},
   "source": [
    "# Predicting Factuality of Reporting and Bias of News Media Sources\n",
    "#### NAMES OF THE GROUP MEMBERS: Ayushi Choudhary, Tai-Hua Chung, Olivia Natasha, Pragyan Sharma, Jinjin Yu"
   ]
  },
  {
   "cell_type": "code",
   "execution_count": 302,
   "metadata": {
    "scrolled": true
   },
   "outputs": [
    {
     "name": "stdout",
     "output_type": "stream",
     "text": [
      "Populating the interactive namespace from numpy and matplotlib\n"
     ]
    }
   ],
   "source": [
    "%pylab inline\n",
    "import pandas as pd\n",
    "import os\n",
    "from ipypublish import nb_setup\n",
    "import numpy as np\n",
    "import warnings\n",
    "warnings.filterwarnings('ignore')"
   ]
  },
  {
   "cell_type": "markdown",
   "metadata": {},
   "source": [
    "## Loading Data"
   ]
  },
  {
   "cell_type": "code",
   "execution_count": 343,
   "metadata": {},
   "outputs": [],
   "source": [
    "#loading corpus\n",
    "corpus = pd.read_csv('data/corpus.csv')"
   ]
  },
  {
   "cell_type": "code",
   "execution_count": 344,
   "metadata": {},
   "outputs": [
    {
     "data": {
      "text/plain": [
       "HIGH     542\n",
       "MIXED    268\n",
       "LOW      256\n",
       "Name: fact, dtype: int64"
      ]
     },
     "execution_count": 344,
     "metadata": {},
     "output_type": "execute_result"
    }
   ],
   "source": [
    "corpus.fact.value_counts()"
   ]
  },
  {
   "cell_type": "code",
   "execution_count": 345,
   "metadata": {},
   "outputs": [
    {
     "data": {
      "text/plain": [
       "center           263\n",
       "left-center      209\n",
       "left             168\n",
       "right            157\n",
       "extreme-right    156\n",
       "right-center      92\n",
       "extreme-left      21\n",
       "Name: bias, dtype: int64"
      ]
     },
     "execution_count": 345,
     "metadata": {},
     "output_type": "execute_result"
    }
   ],
   "source": [
    "corpus.bias.value_counts()"
   ]
  },
  {
   "cell_type": "code",
   "execution_count": 346,
   "metadata": {},
   "outputs": [
    {
     "data": {
      "text/html": [
       "<div>\n",
       "<style scoped>\n",
       "    .dataframe tbody tr th:only-of-type {\n",
       "        vertical-align: middle;\n",
       "    }\n",
       "\n",
       "    .dataframe tbody tr th {\n",
       "        vertical-align: top;\n",
       "    }\n",
       "\n",
       "    .dataframe thead th {\n",
       "        text-align: right;\n",
       "    }\n",
       "</style>\n",
       "<table border=\"1\" class=\"dataframe\">\n",
       "  <thead>\n",
       "    <tr style=\"text-align: right;\">\n",
       "      <th></th>\n",
       "      <th>source_url</th>\n",
       "      <th>source_url_processed</th>\n",
       "      <th>URL</th>\n",
       "      <th>fact</th>\n",
       "      <th>bias</th>\n",
       "    </tr>\n",
       "  </thead>\n",
       "  <tbody>\n",
       "    <tr>\n",
       "      <th>0</th>\n",
       "      <td>http://www.villagevoice.com/</td>\n",
       "      <td>villagevoice.com</td>\n",
       "      <td>http://mediabiasfactcheck.com/the-village-voice/</td>\n",
       "      <td>HIGH</td>\n",
       "      <td>left</td>\n",
       "    </tr>\n",
       "    <tr>\n",
       "      <th>1</th>\n",
       "      <td>https://insideclimatenews.org/</td>\n",
       "      <td>insideclimatenews.org</td>\n",
       "      <td>https://mediabiasfactcheck.com/insideclimate-n...</td>\n",
       "      <td>HIGH</td>\n",
       "      <td>left-center</td>\n",
       "    </tr>\n",
       "    <tr>\n",
       "      <th>2</th>\n",
       "      <td>http://www.fury.news/</td>\n",
       "      <td>fury.news</td>\n",
       "      <td>http://mediabiasfactcheck.com/fury-news/</td>\n",
       "      <td>LOW</td>\n",
       "      <td>extreme-right</td>\n",
       "    </tr>\n",
       "    <tr>\n",
       "      <th>3</th>\n",
       "      <td>http://now8news.com/</td>\n",
       "      <td>now8news.com</td>\n",
       "      <td>http://mediabiasfactcheck.com/now8news/</td>\n",
       "      <td>LOW</td>\n",
       "      <td>center</td>\n",
       "    </tr>\n",
       "    <tr>\n",
       "      <th>4</th>\n",
       "      <td>http://constitution.com/</td>\n",
       "      <td>constitution.com</td>\n",
       "      <td>http://mediabiasfactcheck.com/the-constitution/</td>\n",
       "      <td>LOW</td>\n",
       "      <td>extreme-right</td>\n",
       "    </tr>\n",
       "  </tbody>\n",
       "</table>\n",
       "</div>"
      ],
      "text/plain": [
       "                       source_url   source_url_processed  \\\n",
       "0    http://www.villagevoice.com/       villagevoice.com   \n",
       "1  https://insideclimatenews.org/  insideclimatenews.org   \n",
       "2           http://www.fury.news/              fury.news   \n",
       "3            http://now8news.com/           now8news.com   \n",
       "4        http://constitution.com/       constitution.com   \n",
       "\n",
       "                                                 URL  fact           bias  \n",
       "0   http://mediabiasfactcheck.com/the-village-voice/  HIGH           left  \n",
       "1  https://mediabiasfactcheck.com/insideclimate-n...  HIGH    left-center  \n",
       "2           http://mediabiasfactcheck.com/fury-news/   LOW  extreme-right  \n",
       "3            http://mediabiasfactcheck.com/now8news/   LOW         center  \n",
       "4    http://mediabiasfactcheck.com/the-constitution/   LOW  extreme-right  "
      ]
     },
     "execution_count": 346,
     "metadata": {},
     "output_type": "execute_result"
    }
   ],
   "source": [
    "corpus.head()"
   ]
  },
  {
   "cell_type": "markdown",
   "metadata": {},
   "source": [
    "**Run this for an individual file**"
   ]
  },
  {
   "cell_type": "code",
   "execution_count": 366,
   "metadata": {},
   "outputs": [],
   "source": [
    "features = pd.read_csv('data/features/body.csv')\n",
    "features.drop(columns = ['fact','bias' ], inplace = True)"
   ]
  },
  {
   "cell_type": "markdown",
   "metadata": {},
   "source": [
    "**Run this for multiple files**"
   ]
  },
  {
   "cell_type": "code",
   "execution_count": 347,
   "metadata": {},
   "outputs": [],
   "source": [
    "import glob #library to read multiple files\n",
    "\n",
    "#loading features\n",
    "path = 'data/features/comb_top5' \n",
    "all_files = glob.glob(path + \"/*.csv\") #a list of all the file paths\n",
    "li = []\n",
    "\n",
    "for filepath in all_files:    # reading content of files\n",
    "    df = pd.read_csv(filepath, index_col=None, header=0) \n",
    "    source = df.iloc[:,0]     #saving source_url_processed \n",
    "    fname = str(filepath).split('\\\\')[-1:][0].split('.')[-2:][0] #considering on \n",
    "    df.columns.values[1:-2] = pd.Series(df.columns.values[1:-2]).apply(lambda x: fname +'_' + x)\n",
    "    df = df.iloc[:, 1:-2]\n",
    "    li.append(df)\n",
    "    \n",
    "li.append(source)\n",
    "features = pd.concat(li, axis=1, ignore_index=False)"
   ]
  },
  {
   "cell_type": "code",
   "execution_count": 367,
   "metadata": {},
   "outputs": [
    {
     "data": {
      "text/html": [
       "<div>\n",
       "<style scoped>\n",
       "    .dataframe tbody tr th:only-of-type {\n",
       "        vertical-align: middle;\n",
       "    }\n",
       "\n",
       "    .dataframe tbody tr th {\n",
       "        vertical-align: top;\n",
       "    }\n",
       "\n",
       "    .dataframe thead th {\n",
       "        text-align: right;\n",
       "    }\n",
       "</style>\n",
       "<table border=\"1\" class=\"dataframe\">\n",
       "  <thead>\n",
       "    <tr style=\"text-align: right;\">\n",
       "      <th></th>\n",
       "      <th>source_url_processed</th>\n",
       "      <th>f0</th>\n",
       "      <th>f1</th>\n",
       "      <th>f2</th>\n",
       "      <th>f3</th>\n",
       "      <th>f4</th>\n",
       "      <th>f5</th>\n",
       "      <th>f6</th>\n",
       "      <th>f7</th>\n",
       "      <th>f8</th>\n",
       "      <th>...</th>\n",
       "      <th>f131</th>\n",
       "      <th>f132</th>\n",
       "      <th>f133</th>\n",
       "      <th>f134</th>\n",
       "      <th>f135</th>\n",
       "      <th>f136</th>\n",
       "      <th>f137</th>\n",
       "      <th>f138</th>\n",
       "      <th>f139</th>\n",
       "      <th>f140</th>\n",
       "    </tr>\n",
       "  </thead>\n",
       "  <tbody>\n",
       "    <tr>\n",
       "      <th>0</th>\n",
       "      <td>villagevoice.com</td>\n",
       "      <td>5.356412</td>\n",
       "      <td>0.000582</td>\n",
       "      <td>0.001631</td>\n",
       "      <td>0.000369</td>\n",
       "      <td>0.000016</td>\n",
       "      <td>0.001176</td>\n",
       "      <td>0.000187</td>\n",
       "      <td>0.001575</td>\n",
       "      <td>0.000444</td>\n",
       "      <td>...</td>\n",
       "      <td>1.266089</td>\n",
       "      <td>1.031037</td>\n",
       "      <td>1.190084</td>\n",
       "      <td>0.208078</td>\n",
       "      <td>0.316082</td>\n",
       "      <td>0.139020</td>\n",
       "      <td>0.181814</td>\n",
       "      <td>0.267129</td>\n",
       "      <td>0.051228</td>\n",
       "      <td>0.258858</td>\n",
       "    </tr>\n",
       "    <tr>\n",
       "      <th>1</th>\n",
       "      <td>insideclimatenews.org</td>\n",
       "      <td>5.356014</td>\n",
       "      <td>0.001911</td>\n",
       "      <td>0.001304</td>\n",
       "      <td>0.000118</td>\n",
       "      <td>0.000061</td>\n",
       "      <td>0.003447</td>\n",
       "      <td>0.000156</td>\n",
       "      <td>0.002677</td>\n",
       "      <td>0.000148</td>\n",
       "      <td>...</td>\n",
       "      <td>1.933030</td>\n",
       "      <td>1.375038</td>\n",
       "      <td>0.364960</td>\n",
       "      <td>0.284998</td>\n",
       "      <td>0.685641</td>\n",
       "      <td>0.083882</td>\n",
       "      <td>0.040443</td>\n",
       "      <td>0.350957</td>\n",
       "      <td>0.045444</td>\n",
       "      <td>0.116543</td>\n",
       "    </tr>\n",
       "    <tr>\n",
       "      <th>2</th>\n",
       "      <td>fury.news</td>\n",
       "      <td>5.273517</td>\n",
       "      <td>0.001470</td>\n",
       "      <td>0.003578</td>\n",
       "      <td>0.000384</td>\n",
       "      <td>0.000209</td>\n",
       "      <td>0.001790</td>\n",
       "      <td>0.000698</td>\n",
       "      <td>0.002967</td>\n",
       "      <td>0.001184</td>\n",
       "      <td>...</td>\n",
       "      <td>0.885676</td>\n",
       "      <td>0.779502</td>\n",
       "      <td>0.569813</td>\n",
       "      <td>0.215883</td>\n",
       "      <td>0.302485</td>\n",
       "      <td>0.343760</td>\n",
       "      <td>0.305787</td>\n",
       "      <td>0.554208</td>\n",
       "      <td>0.075992</td>\n",
       "      <td>0.186568</td>\n",
       "    </tr>\n",
       "    <tr>\n",
       "      <th>3</th>\n",
       "      <td>now8news.com</td>\n",
       "      <td>5.404849</td>\n",
       "      <td>0.001432</td>\n",
       "      <td>0.001522</td>\n",
       "      <td>0.000000</td>\n",
       "      <td>0.000000</td>\n",
       "      <td>0.000489</td>\n",
       "      <td>0.000000</td>\n",
       "      <td>0.002332</td>\n",
       "      <td>0.000000</td>\n",
       "      <td>...</td>\n",
       "      <td>1.448575</td>\n",
       "      <td>0.476627</td>\n",
       "      <td>0.796585</td>\n",
       "      <td>0.120750</td>\n",
       "      <td>0.425525</td>\n",
       "      <td>0.023552</td>\n",
       "      <td>0.595620</td>\n",
       "      <td>1.109764</td>\n",
       "      <td>0.049361</td>\n",
       "      <td>0.079153</td>\n",
       "    </tr>\n",
       "    <tr>\n",
       "      <th>4</th>\n",
       "      <td>constitution.com</td>\n",
       "      <td>5.311548</td>\n",
       "      <td>0.001383</td>\n",
       "      <td>0.002403</td>\n",
       "      <td>0.000216</td>\n",
       "      <td>0.000053</td>\n",
       "      <td>0.001761</td>\n",
       "      <td>0.000300</td>\n",
       "      <td>0.002713</td>\n",
       "      <td>0.000188</td>\n",
       "      <td>...</td>\n",
       "      <td>1.391083</td>\n",
       "      <td>1.341072</td>\n",
       "      <td>0.415024</td>\n",
       "      <td>0.111452</td>\n",
       "      <td>0.392811</td>\n",
       "      <td>0.135954</td>\n",
       "      <td>0.178916</td>\n",
       "      <td>0.500542</td>\n",
       "      <td>0.054368</td>\n",
       "      <td>0.189897</td>\n",
       "    </tr>\n",
       "  </tbody>\n",
       "</table>\n",
       "<p>5 rows × 142 columns</p>\n",
       "</div>"
      ],
      "text/plain": [
       "    source_url_processed        f0        f1        f2        f3        f4  \\\n",
       "0       villagevoice.com  5.356412  0.000582  0.001631  0.000369  0.000016   \n",
       "1  insideclimatenews.org  5.356014  0.001911  0.001304  0.000118  0.000061   \n",
       "2              fury.news  5.273517  0.001470  0.003578  0.000384  0.000209   \n",
       "3           now8news.com  5.404849  0.001432  0.001522  0.000000  0.000000   \n",
       "4       constitution.com  5.311548  0.001383  0.002403  0.000216  0.000053   \n",
       "\n",
       "         f5        f6        f7        f8    ...         f131      f132  \\\n",
       "0  0.001176  0.000187  0.001575  0.000444    ...     1.266089  1.031037   \n",
       "1  0.003447  0.000156  0.002677  0.000148    ...     1.933030  1.375038   \n",
       "2  0.001790  0.000698  0.002967  0.001184    ...     0.885676  0.779502   \n",
       "3  0.000489  0.000000  0.002332  0.000000    ...     1.448575  0.476627   \n",
       "4  0.001761  0.000300  0.002713  0.000188    ...     1.391083  1.341072   \n",
       "\n",
       "       f133      f134      f135      f136      f137      f138      f139  \\\n",
       "0  1.190084  0.208078  0.316082  0.139020  0.181814  0.267129  0.051228   \n",
       "1  0.364960  0.284998  0.685641  0.083882  0.040443  0.350957  0.045444   \n",
       "2  0.569813  0.215883  0.302485  0.343760  0.305787  0.554208  0.075992   \n",
       "3  0.796585  0.120750  0.425525  0.023552  0.595620  1.109764  0.049361   \n",
       "4  0.415024  0.111452  0.392811  0.135954  0.178916  0.500542  0.054368   \n",
       "\n",
       "       f140  \n",
       "0  0.258858  \n",
       "1  0.116543  \n",
       "2  0.186568  \n",
       "3  0.079153  \n",
       "4  0.189897  \n",
       "\n",
       "[5 rows x 142 columns]"
      ]
     },
     "execution_count": 367,
     "metadata": {},
     "output_type": "execute_result"
    }
   ],
   "source": [
    "features.head()"
   ]
  },
  {
   "cell_type": "code",
   "execution_count": 368,
   "metadata": {},
   "outputs": [],
   "source": [
    "merged_df = corpus.merge(features, how='inner', left_on='source_url_processed', right_on='source_url_processed' )"
   ]
  },
  {
   "cell_type": "markdown",
   "metadata": {},
   "source": [
    "**Only run to merge new added features**"
   ]
  },
  {
   "cell_type": "code",
   "execution_count": 389,
   "metadata": {},
   "outputs": [],
   "source": [
    "about_us = pd.read_csv('data/features/new_features/has_about_us.csv')\n",
    "terms_of_use = pd.read_csv('data/features/new_features/has_terms_of_use.csv')\n",
    "merged_df = pd.concat([merged_df,terms_of_use.has_termsf0, about_us.has_about_usf0], axis=1, ignore_index=False)"
   ]
  },
  {
   "cell_type": "markdown",
   "metadata": {},
   "source": [
    "**Merging all the files**"
   ]
  },
  {
   "cell_type": "code",
   "execution_count": 369,
   "metadata": {},
   "outputs": [],
   "source": [
    "merged_df.drop(columns = ['source_url','URL'], inplace = True)\n",
    "\n",
    "merged_df.replace({'HIGH':2, 'MIXED': 1 ,'LOW':0 }, inplace = True)\n",
    "merged_df.replace({'extreme-right': 0, 'right': 1, 'right-center': 2, 'center': 3, \\\n",
    "                     'left-center': 4, 'left': 5, 'extreme-left': 6},inplace = True)"
   ]
  },
  {
   "cell_type": "code",
   "execution_count": 370,
   "metadata": {},
   "outputs": [
    {
     "data": {
      "text/html": [
       "<div>\n",
       "<style scoped>\n",
       "    .dataframe tbody tr th:only-of-type {\n",
       "        vertical-align: middle;\n",
       "    }\n",
       "\n",
       "    .dataframe tbody tr th {\n",
       "        vertical-align: top;\n",
       "    }\n",
       "\n",
       "    .dataframe thead th {\n",
       "        text-align: right;\n",
       "    }\n",
       "</style>\n",
       "<table border=\"1\" class=\"dataframe\">\n",
       "  <thead>\n",
       "    <tr style=\"text-align: right;\">\n",
       "      <th></th>\n",
       "      <th>source_url_processed</th>\n",
       "      <th>fact</th>\n",
       "      <th>bias</th>\n",
       "      <th>f0</th>\n",
       "      <th>f1</th>\n",
       "      <th>f2</th>\n",
       "      <th>f3</th>\n",
       "      <th>f4</th>\n",
       "      <th>f5</th>\n",
       "      <th>f6</th>\n",
       "      <th>...</th>\n",
       "      <th>f131</th>\n",
       "      <th>f132</th>\n",
       "      <th>f133</th>\n",
       "      <th>f134</th>\n",
       "      <th>f135</th>\n",
       "      <th>f136</th>\n",
       "      <th>f137</th>\n",
       "      <th>f138</th>\n",
       "      <th>f139</th>\n",
       "      <th>f140</th>\n",
       "    </tr>\n",
       "  </thead>\n",
       "  <tbody>\n",
       "    <tr>\n",
       "      <th>0</th>\n",
       "      <td>villagevoice.com</td>\n",
       "      <td>2</td>\n",
       "      <td>5</td>\n",
       "      <td>5.356412</td>\n",
       "      <td>0.000582</td>\n",
       "      <td>0.001631</td>\n",
       "      <td>0.000369</td>\n",
       "      <td>0.000016</td>\n",
       "      <td>0.001176</td>\n",
       "      <td>0.000187</td>\n",
       "      <td>...</td>\n",
       "      <td>1.266089</td>\n",
       "      <td>1.031037</td>\n",
       "      <td>1.190084</td>\n",
       "      <td>0.208078</td>\n",
       "      <td>0.316082</td>\n",
       "      <td>0.139020</td>\n",
       "      <td>0.181814</td>\n",
       "      <td>0.267129</td>\n",
       "      <td>0.051228</td>\n",
       "      <td>0.258858</td>\n",
       "    </tr>\n",
       "    <tr>\n",
       "      <th>1</th>\n",
       "      <td>insideclimatenews.org</td>\n",
       "      <td>2</td>\n",
       "      <td>4</td>\n",
       "      <td>5.356014</td>\n",
       "      <td>0.001911</td>\n",
       "      <td>0.001304</td>\n",
       "      <td>0.000118</td>\n",
       "      <td>0.000061</td>\n",
       "      <td>0.003447</td>\n",
       "      <td>0.000156</td>\n",
       "      <td>...</td>\n",
       "      <td>1.933030</td>\n",
       "      <td>1.375038</td>\n",
       "      <td>0.364960</td>\n",
       "      <td>0.284998</td>\n",
       "      <td>0.685641</td>\n",
       "      <td>0.083882</td>\n",
       "      <td>0.040443</td>\n",
       "      <td>0.350957</td>\n",
       "      <td>0.045444</td>\n",
       "      <td>0.116543</td>\n",
       "    </tr>\n",
       "    <tr>\n",
       "      <th>2</th>\n",
       "      <td>fury.news</td>\n",
       "      <td>0</td>\n",
       "      <td>0</td>\n",
       "      <td>5.273517</td>\n",
       "      <td>0.001470</td>\n",
       "      <td>0.003578</td>\n",
       "      <td>0.000384</td>\n",
       "      <td>0.000209</td>\n",
       "      <td>0.001790</td>\n",
       "      <td>0.000698</td>\n",
       "      <td>...</td>\n",
       "      <td>0.885676</td>\n",
       "      <td>0.779502</td>\n",
       "      <td>0.569813</td>\n",
       "      <td>0.215883</td>\n",
       "      <td>0.302485</td>\n",
       "      <td>0.343760</td>\n",
       "      <td>0.305787</td>\n",
       "      <td>0.554208</td>\n",
       "      <td>0.075992</td>\n",
       "      <td>0.186568</td>\n",
       "    </tr>\n",
       "    <tr>\n",
       "      <th>3</th>\n",
       "      <td>now8news.com</td>\n",
       "      <td>0</td>\n",
       "      <td>3</td>\n",
       "      <td>5.404849</td>\n",
       "      <td>0.001432</td>\n",
       "      <td>0.001522</td>\n",
       "      <td>0.000000</td>\n",
       "      <td>0.000000</td>\n",
       "      <td>0.000489</td>\n",
       "      <td>0.000000</td>\n",
       "      <td>...</td>\n",
       "      <td>1.448575</td>\n",
       "      <td>0.476627</td>\n",
       "      <td>0.796585</td>\n",
       "      <td>0.120750</td>\n",
       "      <td>0.425525</td>\n",
       "      <td>0.023552</td>\n",
       "      <td>0.595620</td>\n",
       "      <td>1.109764</td>\n",
       "      <td>0.049361</td>\n",
       "      <td>0.079153</td>\n",
       "    </tr>\n",
       "    <tr>\n",
       "      <th>4</th>\n",
       "      <td>constitution.com</td>\n",
       "      <td>0</td>\n",
       "      <td>0</td>\n",
       "      <td>5.311548</td>\n",
       "      <td>0.001383</td>\n",
       "      <td>0.002403</td>\n",
       "      <td>0.000216</td>\n",
       "      <td>0.000053</td>\n",
       "      <td>0.001761</td>\n",
       "      <td>0.000300</td>\n",
       "      <td>...</td>\n",
       "      <td>1.391083</td>\n",
       "      <td>1.341072</td>\n",
       "      <td>0.415024</td>\n",
       "      <td>0.111452</td>\n",
       "      <td>0.392811</td>\n",
       "      <td>0.135954</td>\n",
       "      <td>0.178916</td>\n",
       "      <td>0.500542</td>\n",
       "      <td>0.054368</td>\n",
       "      <td>0.189897</td>\n",
       "    </tr>\n",
       "  </tbody>\n",
       "</table>\n",
       "<p>5 rows × 144 columns</p>\n",
       "</div>"
      ],
      "text/plain": [
       "    source_url_processed  fact  bias        f0        f1        f2        f3  \\\n",
       "0       villagevoice.com     2     5  5.356412  0.000582  0.001631  0.000369   \n",
       "1  insideclimatenews.org     2     4  5.356014  0.001911  0.001304  0.000118   \n",
       "2              fury.news     0     0  5.273517  0.001470  0.003578  0.000384   \n",
       "3           now8news.com     0     3  5.404849  0.001432  0.001522  0.000000   \n",
       "4       constitution.com     0     0  5.311548  0.001383  0.002403  0.000216   \n",
       "\n",
       "         f4        f5        f6    ...         f131      f132      f133  \\\n",
       "0  0.000016  0.001176  0.000187    ...     1.266089  1.031037  1.190084   \n",
       "1  0.000061  0.003447  0.000156    ...     1.933030  1.375038  0.364960   \n",
       "2  0.000209  0.001790  0.000698    ...     0.885676  0.779502  0.569813   \n",
       "3  0.000000  0.000489  0.000000    ...     1.448575  0.476627  0.796585   \n",
       "4  0.000053  0.001761  0.000300    ...     1.391083  1.341072  0.415024   \n",
       "\n",
       "       f134      f135      f136      f137      f138      f139      f140  \n",
       "0  0.208078  0.316082  0.139020  0.181814  0.267129  0.051228  0.258858  \n",
       "1  0.284998  0.685641  0.083882  0.040443  0.350957  0.045444  0.116543  \n",
       "2  0.215883  0.302485  0.343760  0.305787  0.554208  0.075992  0.186568  \n",
       "3  0.120750  0.425525  0.023552  0.595620  1.109764  0.049361  0.079153  \n",
       "4  0.111452  0.392811  0.135954  0.178916  0.500542  0.054368  0.189897  \n",
       "\n",
       "[5 rows x 144 columns]"
      ]
     },
     "execution_count": 370,
     "metadata": {},
     "output_type": "execute_result"
    }
   ],
   "source": [
    "merged_df.head()"
   ]
  },
  {
   "cell_type": "code",
   "execution_count": 371,
   "metadata": {},
   "outputs": [
    {
     "data": {
      "text/plain": [
       "(1066, 144)"
      ]
     },
     "execution_count": 371,
     "metadata": {},
     "output_type": "execute_result"
    }
   ],
   "source": [
    "merged_df.shape"
   ]
  },
  {
   "cell_type": "code",
   "execution_count": 372,
   "metadata": {},
   "outputs": [
    {
     "data": {
      "text/plain": [
       "0    256\n",
       "1    268\n",
       "2    542\n",
       "Name: fact, dtype: int64"
      ]
     },
     "execution_count": 372,
     "metadata": {},
     "output_type": "execute_result"
    }
   ],
   "source": [
    "merged_df.fact.value_counts().sort_index()"
   ]
  },
  {
   "cell_type": "code",
   "execution_count": 373,
   "metadata": {},
   "outputs": [
    {
     "data": {
      "text/plain": [
       "0    156\n",
       "1    157\n",
       "2     92\n",
       "3    263\n",
       "4    209\n",
       "5    168\n",
       "6     21\n",
       "Name: bias, dtype: int64"
      ]
     },
     "execution_count": 373,
     "metadata": {},
     "output_type": "execute_result"
    }
   ],
   "source": [
    "merged_df.bias.value_counts().sort_index()"
   ]
  },
  {
   "cell_type": "markdown",
   "metadata": {},
   "source": [
    "## Dimension Reduction  - PCA"
   ]
  },
  {
   "cell_type": "code",
   "execution_count": 17,
   "metadata": {},
   "outputs": [],
   "source": [
    "#For a specific file\n",
    "#merged_df = pd.read_csv('data/features/body.csv')"
   ]
  },
  {
   "cell_type": "code",
   "execution_count": 374,
   "metadata": {},
   "outputs": [],
   "source": [
    "Y1 = merged_df.fact\n",
    "Y2 = merged_df.bias\n",
    "X = merged_df.drop(columns = [ 'source_url_processed', 'fact', 'bias',])\n",
    "source_url_processed = merged_df.source_url_processed"
   ]
  },
  {
   "cell_type": "code",
   "execution_count": 375,
   "metadata": {},
   "outputs": [
    {
     "name": "stdout",
     "output_type": "stream",
     "text": [
      "(1066, 141)\n"
     ]
    },
    {
     "data": {
      "text/html": [
       "<div>\n",
       "<style scoped>\n",
       "    .dataframe tbody tr th:only-of-type {\n",
       "        vertical-align: middle;\n",
       "    }\n",
       "\n",
       "    .dataframe tbody tr th {\n",
       "        vertical-align: top;\n",
       "    }\n",
       "\n",
       "    .dataframe thead th {\n",
       "        text-align: right;\n",
       "    }\n",
       "</style>\n",
       "<table border=\"1\" class=\"dataframe\">\n",
       "  <thead>\n",
       "    <tr style=\"text-align: right;\">\n",
       "      <th></th>\n",
       "      <th>f0</th>\n",
       "      <th>f1</th>\n",
       "      <th>f2</th>\n",
       "      <th>f3</th>\n",
       "      <th>f4</th>\n",
       "      <th>f5</th>\n",
       "      <th>f6</th>\n",
       "      <th>f7</th>\n",
       "      <th>f8</th>\n",
       "      <th>f9</th>\n",
       "      <th>...</th>\n",
       "      <th>f131</th>\n",
       "      <th>f132</th>\n",
       "      <th>f133</th>\n",
       "      <th>f134</th>\n",
       "      <th>f135</th>\n",
       "      <th>f136</th>\n",
       "      <th>f137</th>\n",
       "      <th>f138</th>\n",
       "      <th>f139</th>\n",
       "      <th>f140</th>\n",
       "    </tr>\n",
       "  </thead>\n",
       "  <tbody>\n",
       "    <tr>\n",
       "      <th>0</th>\n",
       "      <td>0.057173</td>\n",
       "      <td>-0.527042</td>\n",
       "      <td>-0.283778</td>\n",
       "      <td>0.216815</td>\n",
       "      <td>-0.374495</td>\n",
       "      <td>-0.587672</td>\n",
       "      <td>-0.298482</td>\n",
       "      <td>-0.734595</td>\n",
       "      <td>0.077078</td>\n",
       "      <td>-0.246495</td>\n",
       "      <td>...</td>\n",
       "      <td>-0.661424</td>\n",
       "      <td>-0.363023</td>\n",
       "      <td>1.241183</td>\n",
       "      <td>0.093056</td>\n",
       "      <td>-0.695434</td>\n",
       "      <td>-0.225201</td>\n",
       "      <td>0.022414</td>\n",
       "      <td>-0.424115</td>\n",
       "      <td>-0.182847</td>\n",
       "      <td>0.410037</td>\n",
       "    </tr>\n",
       "    <tr>\n",
       "      <th>1</th>\n",
       "      <td>0.053047</td>\n",
       "      <td>0.188272</td>\n",
       "      <td>-0.475914</td>\n",
       "      <td>-0.516027</td>\n",
       "      <td>-0.146224</td>\n",
       "      <td>0.553024</td>\n",
       "      <td>-0.365944</td>\n",
       "      <td>-0.129089</td>\n",
       "      <td>-0.319511</td>\n",
       "      <td>1.132348</td>\n",
       "      <td>...</td>\n",
       "      <td>0.151888</td>\n",
       "      <td>0.409582</td>\n",
       "      <td>-0.673321</td>\n",
       "      <td>0.435834</td>\n",
       "      <td>-0.117133</td>\n",
       "      <td>-0.389815</td>\n",
       "      <td>-0.597655</td>\n",
       "      <td>-0.073743</td>\n",
       "      <td>-0.287388</td>\n",
       "      <td>-0.224168</td>\n",
       "    </tr>\n",
       "    <tr>\n",
       "      <th>2</th>\n",
       "      <td>-0.804032</td>\n",
       "      <td>-0.049219</td>\n",
       "      <td>0.862446</td>\n",
       "      <td>0.260871</td>\n",
       "      <td>0.593902</td>\n",
       "      <td>-0.279257</td>\n",
       "      <td>0.803487</td>\n",
       "      <td>0.030073</td>\n",
       "      <td>1.066928</td>\n",
       "      <td>-0.041215</td>\n",
       "      <td>...</td>\n",
       "      <td>-1.125325</td>\n",
       "      <td>-0.927956</td>\n",
       "      <td>-0.198009</td>\n",
       "      <td>0.127836</td>\n",
       "      <td>-0.716712</td>\n",
       "      <td>0.386047</td>\n",
       "      <td>0.566177</td>\n",
       "      <td>0.775769</td>\n",
       "      <td>0.264694</td>\n",
       "      <td>0.087888</td>\n",
       "    </tr>\n",
       "    <tr>\n",
       "      <th>3</th>\n",
       "      <td>0.560397</td>\n",
       "      <td>-0.069737</td>\n",
       "      <td>-0.347713</td>\n",
       "      <td>-0.859347</td>\n",
       "      <td>-0.452465</td>\n",
       "      <td>-0.932738</td>\n",
       "      <td>-0.701240</td>\n",
       "      <td>-0.318670</td>\n",
       "      <td>-0.517512</td>\n",
       "      <td>-0.462832</td>\n",
       "      <td>...</td>\n",
       "      <td>-0.438888</td>\n",
       "      <td>-1.608194</td>\n",
       "      <td>0.328163</td>\n",
       "      <td>-0.296109</td>\n",
       "      <td>-0.524173</td>\n",
       "      <td>-0.569931</td>\n",
       "      <td>1.837421</td>\n",
       "      <td>3.097781</td>\n",
       "      <td>-0.216605</td>\n",
       "      <td>-0.390791</td>\n",
       "    </tr>\n",
       "    <tr>\n",
       "      <th>4</th>\n",
       "      <td>-0.408917</td>\n",
       "      <td>-0.095974</td>\n",
       "      <td>0.171205</td>\n",
       "      <td>-0.230327</td>\n",
       "      <td>-0.185830</td>\n",
       "      <td>-0.293571</td>\n",
       "      <td>-0.054456</td>\n",
       "      <td>-0.109720</td>\n",
       "      <td>-0.265256</td>\n",
       "      <td>-0.371709</td>\n",
       "      <td>...</td>\n",
       "      <td>-0.508998</td>\n",
       "      <td>0.333295</td>\n",
       "      <td>-0.557159</td>\n",
       "      <td>-0.337544</td>\n",
       "      <td>-0.575366</td>\n",
       "      <td>-0.234353</td>\n",
       "      <td>0.009702</td>\n",
       "      <td>0.551462</td>\n",
       "      <td>-0.126103</td>\n",
       "      <td>0.102725</td>\n",
       "    </tr>\n",
       "  </tbody>\n",
       "</table>\n",
       "<p>5 rows × 141 columns</p>\n",
       "</div>"
      ],
      "text/plain": [
       "         f0        f1        f2        f3        f4        f5        f6  \\\n",
       "0  0.057173 -0.527042 -0.283778  0.216815 -0.374495 -0.587672 -0.298482   \n",
       "1  0.053047  0.188272 -0.475914 -0.516027 -0.146224  0.553024 -0.365944   \n",
       "2 -0.804032 -0.049219  0.862446  0.260871  0.593902 -0.279257  0.803487   \n",
       "3  0.560397 -0.069737 -0.347713 -0.859347 -0.452465 -0.932738 -0.701240   \n",
       "4 -0.408917 -0.095974  0.171205 -0.230327 -0.185830 -0.293571 -0.054456   \n",
       "\n",
       "         f7        f8        f9    ...         f131      f132      f133  \\\n",
       "0 -0.734595  0.077078 -0.246495    ...    -0.661424 -0.363023  1.241183   \n",
       "1 -0.129089 -0.319511  1.132348    ...     0.151888  0.409582 -0.673321   \n",
       "2  0.030073  1.066928 -0.041215    ...    -1.125325 -0.927956 -0.198009   \n",
       "3 -0.318670 -0.517512 -0.462832    ...    -0.438888 -1.608194  0.328163   \n",
       "4 -0.109720 -0.265256 -0.371709    ...    -0.508998  0.333295 -0.557159   \n",
       "\n",
       "       f134      f135      f136      f137      f138      f139      f140  \n",
       "0  0.093056 -0.695434 -0.225201  0.022414 -0.424115 -0.182847  0.410037  \n",
       "1  0.435834 -0.117133 -0.389815 -0.597655 -0.073743 -0.287388 -0.224168  \n",
       "2  0.127836 -0.716712  0.386047  0.566177  0.775769  0.264694  0.087888  \n",
       "3 -0.296109 -0.524173 -0.569931  1.837421  3.097781 -0.216605 -0.390791  \n",
       "4 -0.337544 -0.575366 -0.234353  0.009702  0.551462 -0.126103  0.102725  \n",
       "\n",
       "[5 rows x 141 columns]"
      ]
     },
     "execution_count": 375,
     "metadata": {},
     "output_type": "execute_result"
    }
   ],
   "source": [
    "#NORMALIZE\n",
    "from sklearn.decomposition import PCA\n",
    "from sklearn.preprocessing import scale\n",
    "Xs = pd.DataFrame(scale(X))\n",
    "Xs.columns = X.columns\n",
    "print(Xs.shape)\n",
    "Xs.head()"
   ]
  },
  {
   "cell_type": "code",
   "execution_count": 376,
   "metadata": {},
   "outputs": [
    {
     "name": "stdout",
     "output_type": "stream",
     "text": [
      "(1066, 20)\n"
     ]
    }
   ],
   "source": [
    "#REDUCED DATA \n",
    "from sklearn import decomposition\n",
    "pca = decomposition.PCA(n_components=20)\n",
    "pca.fit(Xs)\n",
    "R = pca.transform(Xs)\n",
    "print(R.shape)"
   ]
  },
  {
   "cell_type": "code",
   "execution_count": 377,
   "metadata": {},
   "outputs": [
    {
     "name": "stdout",
     "output_type": "stream",
     "text": [
      "(141, 20)\n",
      "Index(['f0', 'f1', 'f2', 'f3', 'f4', 'f5', 'f6', 'f7', 'f8', 'f9',\n",
      "       ...\n",
      "       'f131', 'f132', 'f133', 'f134', 'f135', 'f136', 'f137', 'f138', 'f139',\n",
      "       'f140'],\n",
      "      dtype='object', length=141)\n"
     ]
    },
    {
     "data": {
      "text/plain": [
       "array([[-0.06634065,  0.17191595,  0.09558903, ..., -0.04125147,\n",
       "         0.0802725 ,  0.06287761],\n",
       "       [-0.00574339, -0.01266322,  0.14141967, ..., -0.17301286,\n",
       "        -0.01246951,  0.07975825],\n",
       "       [ 0.00429122, -0.16676031, -0.00903793, ...,  0.03081497,\n",
       "        -0.02499066, -0.07887178],\n",
       "       ..., \n",
       "       [-0.0401252 , -0.07861004, -0.0211476 , ...,  0.03226636,\n",
       "         0.00557862,  0.14851699],\n",
       "       [-0.00045452, -0.01119932, -0.01790573, ...,  0.11467374,\n",
       "        -0.06615179,  0.14760274],\n",
       "       [-0.07839052,  0.01225349, -0.02298516, ...,  0.27545386,\n",
       "        -0.04943142, -0.05532074]])"
      ]
     },
     "execution_count": 377,
     "metadata": {},
     "output_type": "execute_result"
    }
   ],
   "source": [
    "#LOADINGS MATRIX L\n",
    "L = pca.components_.T\n",
    "print(L.shape)\n",
    "print(X.columns)\n",
    "L"
   ]
  },
  {
   "cell_type": "code",
   "execution_count": 378,
   "metadata": {},
   "outputs": [
    {
     "data": {
      "text/plain": [
       "0     9.289331e-13\n",
       "1    -7.494326e-13\n",
       "2    -5.541357e-13\n",
       "3     3.978749e-13\n",
       "4    -3.993169e-13\n",
       "5     1.544276e-12\n",
       "6     1.467333e-13\n",
       "7     6.973788e-13\n",
       "8    -9.145865e-13\n",
       "9     1.662324e-13\n",
       "10    1.463074e-12\n",
       "11   -1.511812e-13\n",
       "12    5.198062e-13\n",
       "13    1.865373e-13\n",
       "14    1.035572e-12\n",
       "15   -1.428269e-13\n",
       "16   -1.994157e-13\n",
       "17    2.203974e-13\n",
       "18   -5.649240e-13\n",
       "19   -1.152348e-12\n",
       "dtype: float64"
      ]
     },
     "execution_count": 378,
     "metadata": {},
     "output_type": "execute_result"
    }
   ],
   "source": [
    "#CHECK THAT DECOMPOSITION IS CORRECT\n",
    "sum(R - Xs.dot(L))"
   ]
  },
  {
   "cell_type": "code",
   "execution_count": 379,
   "metadata": {},
   "outputs": [
    {
     "data": {
      "text/plain": [
       "array([ 0.1105016 ,  0.07761039,  0.0528884 ,  0.04584536,  0.04024659,\n",
       "        0.0342182 ,  0.02964961,  0.02513232,  0.02434382,  0.02264096,\n",
       "        0.02022735,  0.01970224,  0.01863306,  0.01579273,  0.01473892,\n",
       "        0.01417867,  0.01387213,  0.01276873,  0.01251716,  0.01164248])"
      ]
     },
     "execution_count": 379,
     "metadata": {},
     "output_type": "execute_result"
    }
   ],
   "source": [
    "#EXPLAINED VARIANCE\n",
    "pca.explained_variance_ratio_"
   ]
  },
  {
   "cell_type": "code",
   "execution_count": 380,
   "metadata": {},
   "outputs": [],
   "source": [
    "principalDf = pd.DataFrame(data = R\n",
    "             , columns = ['PC1', 'PC2','PC3','PC4','PC5', 'PC6', 'PC7', 'PC8', 'PC9', 'PC10', 'PC11', 'PC12', 'PC13',\\\n",
    "                         'PC14', 'PC15', 'PC16', 'PC17', 'PC18', 'PC19', 'PC20'])\n",
    "finalDf = pd.concat([source_url_processed,principalDf, Y1, Y2], axis = 1)"
   ]
  },
  {
   "cell_type": "code",
   "execution_count": 381,
   "metadata": {},
   "outputs": [],
   "source": [
    "principalDf = pd.DataFrame(data = R)\n",
    "finalDf = pd.concat([source_url_processed,principalDf, Y1, Y2], axis = 1)"
   ]
  },
  {
   "cell_type": "code",
   "execution_count": 382,
   "metadata": {},
   "outputs": [
    {
     "data": {
      "text/html": [
       "<div>\n",
       "<style scoped>\n",
       "    .dataframe tbody tr th:only-of-type {\n",
       "        vertical-align: middle;\n",
       "    }\n",
       "\n",
       "    .dataframe tbody tr th {\n",
       "        vertical-align: top;\n",
       "    }\n",
       "\n",
       "    .dataframe thead th {\n",
       "        text-align: right;\n",
       "    }\n",
       "</style>\n",
       "<table border=\"1\" class=\"dataframe\">\n",
       "  <thead>\n",
       "    <tr style=\"text-align: right;\">\n",
       "      <th></th>\n",
       "      <th>source_url_processed</th>\n",
       "      <th>0</th>\n",
       "      <th>1</th>\n",
       "      <th>2</th>\n",
       "      <th>3</th>\n",
       "      <th>4</th>\n",
       "      <th>5</th>\n",
       "      <th>6</th>\n",
       "      <th>7</th>\n",
       "      <th>8</th>\n",
       "      <th>...</th>\n",
       "      <th>12</th>\n",
       "      <th>13</th>\n",
       "      <th>14</th>\n",
       "      <th>15</th>\n",
       "      <th>16</th>\n",
       "      <th>17</th>\n",
       "      <th>18</th>\n",
       "      <th>19</th>\n",
       "      <th>fact</th>\n",
       "      <th>bias</th>\n",
       "    </tr>\n",
       "  </thead>\n",
       "  <tbody>\n",
       "    <tr>\n",
       "      <th>0</th>\n",
       "      <td>villagevoice.com</td>\n",
       "      <td>-0.434868</td>\n",
       "      <td>-0.244455</td>\n",
       "      <td>-1.434269</td>\n",
       "      <td>-0.862653</td>\n",
       "      <td>-2.616887</td>\n",
       "      <td>-1.430359</td>\n",
       "      <td>-0.030051</td>\n",
       "      <td>-0.507447</td>\n",
       "      <td>0.225103</td>\n",
       "      <td>...</td>\n",
       "      <td>-1.013000</td>\n",
       "      <td>0.067354</td>\n",
       "      <td>0.062923</td>\n",
       "      <td>-0.959288</td>\n",
       "      <td>0.640060</td>\n",
       "      <td>1.068211</td>\n",
       "      <td>-0.059945</td>\n",
       "      <td>0.772140</td>\n",
       "      <td>2</td>\n",
       "      <td>5</td>\n",
       "    </tr>\n",
       "    <tr>\n",
       "      <th>1</th>\n",
       "      <td>insideclimatenews.org</td>\n",
       "      <td>3.519641</td>\n",
       "      <td>-0.757469</td>\n",
       "      <td>1.378165</td>\n",
       "      <td>-2.146577</td>\n",
       "      <td>-0.603021</td>\n",
       "      <td>-0.129587</td>\n",
       "      <td>0.118731</td>\n",
       "      <td>1.073598</td>\n",
       "      <td>0.308076</td>\n",
       "      <td>...</td>\n",
       "      <td>0.210378</td>\n",
       "      <td>-0.101454</td>\n",
       "      <td>-0.021804</td>\n",
       "      <td>0.011623</td>\n",
       "      <td>-0.266414</td>\n",
       "      <td>-0.039805</td>\n",
       "      <td>0.121960</td>\n",
       "      <td>0.418141</td>\n",
       "      <td>2</td>\n",
       "      <td>4</td>\n",
       "    </tr>\n",
       "  </tbody>\n",
       "</table>\n",
       "<p>2 rows × 23 columns</p>\n",
       "</div>"
      ],
      "text/plain": [
       "    source_url_processed         0         1         2         3         4  \\\n",
       "0       villagevoice.com -0.434868 -0.244455 -1.434269 -0.862653 -2.616887   \n",
       "1  insideclimatenews.org  3.519641 -0.757469  1.378165 -2.146577 -0.603021   \n",
       "\n",
       "          5         6         7         8  ...         12        13        14  \\\n",
       "0 -1.430359 -0.030051 -0.507447  0.225103  ...  -1.013000  0.067354  0.062923   \n",
       "1 -0.129587  0.118731  1.073598  0.308076  ...   0.210378 -0.101454 -0.021804   \n",
       "\n",
       "         15        16        17        18        19  fact  bias  \n",
       "0 -0.959288  0.640060  1.068211 -0.059945  0.772140     2     5  \n",
       "1  0.011623 -0.266414 -0.039805  0.121960  0.418141     2     4  \n",
       "\n",
       "[2 rows x 23 columns]"
      ]
     },
     "execution_count": 382,
     "metadata": {},
     "output_type": "execute_result"
    }
   ],
   "source": [
    "finalDf.head(2)"
   ]
  },
  {
   "cell_type": "markdown",
   "metadata": {},
   "source": [
    "# Model Building"
   ]
  },
  {
   "cell_type": "code",
   "execution_count": 383,
   "metadata": {},
   "outputs": [],
   "source": [
    "import sklearn as sk\n",
    "from sklearn.ensemble import RandomForestClassifier\n",
    "from sklearn.naive_bayes import GaussianNB\n",
    "from sklearn.discriminant_analysis import QuadraticDiscriminantAnalysis\n",
    "from sklearn.neural_network import MLPClassifier\n",
    "from sklearn.ensemble import BaggingClassifier\n",
    "from sklearn.neighbors import KNeighborsClassifier\n",
    "from sklearn.ensemble import AdaBoostClassifier\n",
    "from sklearn.svm import SVC\n",
    "from sklearn.tree import DecisionTreeClassifier\n",
    "import xgboost as xgb"
   ]
  },
  {
   "cell_type": "code",
   "execution_count": 384,
   "metadata": {},
   "outputs": [],
   "source": [
    "from sklearn.metrics import accuracy_score\n",
    "from sklearn.metrics import classification_report\n",
    "from sklearn.metrics import roc_curve,auc\n",
    "from sklearn.metrics import confusion_matrix\n",
    "from sklearn.metrics import f1_score\n",
    "from sklearn.model_selection import KFold"
   ]
  },
  {
   "cell_type": "code",
   "execution_count": 385,
   "metadata": {},
   "outputs": [],
   "source": [
    "clfs = [sk.svm.SVC(),\n",
    "        sk.linear_model.LogisticRegression(),\n",
    "        sk.ensemble.RandomForestClassifier(n_estimators=50), \n",
    "        sk.ensemble.AdaBoostClassifier(),\n",
    "        #SMOTEEN\n",
    "        KNeighborsClassifier(n_neighbors=5),  \n",
    "        #TENSOFLOW        \n",
    "        xgb.XGBClassifier(max_depth=3, n_estimators=200, learning_rate=0.05)       \n",
    "       ]"
   ]
  },
  {
   "cell_type": "code",
   "execution_count": 386,
   "metadata": {},
   "outputs": [],
   "source": [
    "def Auto_modeling(data):\n",
    "   \n",
    "    classifier = []\n",
    "    accuracy = []\n",
    "    f1 = []\n",
    "    \n",
    "    # define variables\n",
    "    X = np.array(data.drop(columns = ['source_url_processed','fact','bias'],axis=1))\n",
    "    y = np.array(data.fact)\n",
    "    \n",
    "    # best\n",
    "    maxACC = -1\n",
    "    bestCL = ''\n",
    "       \n",
    "    # k-fold\n",
    "    kf = KFold(n_splits=5,random_state=0)\n",
    "    \n",
    "    # iterate different models\n",
    "    for clf in clfs:\n",
    "        \n",
    "        # Scores\n",
    "        overall_acc = 0\n",
    "        overall_f1 = 0\n",
    "    \n",
    "        for train_index, test_index in kf.split(X):\n",
    "            \n",
    "            X_train, X_test = X[train_index], X[test_index]\n",
    "            y_train, y_test = y[train_index], y[test_index]\n",
    "            \n",
    "            clf.fit(X_train, y_train)\n",
    "            ypred = clf.predict(X_test)\n",
    "            \n",
    "            acc = accuracy_score(y_test,ypred)\n",
    "            #print(acc)\n",
    "            overall_acc += acc \n",
    "            \n",
    "            #print(type(y_test))\n",
    "            #print(type(ypred))\n",
    "            \n",
    "            f = f1_score(y_test, ypred, average='macro')\n",
    "            #f = 1\n",
    "            #print(f)\n",
    "            overall_f1 += f\n",
    "        \n",
    "        print(str(clf)[:str(clf).find('(')])\n",
    "        classifier.append(str(clf)[:str(clf).find('(')])\n",
    "\n",
    "        # Acc\n",
    "        avg_acc = overall_acc/5\n",
    "        print('avg. Accuracy:' + str(avg_acc))\n",
    "        accuracy.append(avg_acc)\n",
    "        \n",
    "        # f1\n",
    "        avg_f1 = overall_f1/5\n",
    "        print('avg. f1:' + str(avg_f1))\n",
    "        f1.append(avg_f1)\n",
    "        \n",
    "        print('------------------')\n",
    "        print('\\n')\n",
    "        \n",
    "        if avg_acc > maxACC:\n",
    "            bestCL = str(clf)[:str(clf).find('(')]\n",
    "            maxACC = avg_acc\n",
    "            \n",
    "    \n",
    "    print ('Best Classifier:')\n",
    "    print ('      ' + str(bestCL))\n",
    "    print('\\n')\n",
    "    print ('Accuracy:' + str(maxACC))\n",
    "    \n",
    "    #print(classifier)\n",
    "    #print(accuracy)\n",
    "    #print(f1)\n",
    "    \n",
    "    df = pd.DataFrame(data={\"classifier\":classifier, \"accuracy\":accuracy, \"f1\":f1}).set_index('classifier').T\n",
    "    \n",
    "    return df"
   ]
  },
  {
   "cell_type": "code",
   "execution_count": 387,
   "metadata": {},
   "outputs": [
    {
     "name": "stdout",
     "output_type": "stream",
     "text": [
      "SVC\n",
      "avg. Accuracy:0.609753850204\n",
      "avg. f1:0.512640292878\n",
      "------------------\n",
      "\n",
      "\n",
      "LogisticRegression\n",
      "avg. Accuracy:0.616317844763\n",
      "avg. f1:0.492053761239\n",
      "------------------\n",
      "\n",
      "\n",
      "RandomForestClassifier\n",
      "avg. Accuracy:0.614417972006\n",
      "avg. f1:0.519448300527\n",
      "------------------\n",
      "\n",
      "\n",
      "AdaBoostClassifier\n",
      "avg. Accuracy:0.566583300426\n",
      "avg. f1:0.497486956457\n",
      "------------------\n",
      "\n",
      "\n",
      "KNeighborsClassifier\n",
      "avg. Accuracy:0.599412048616\n",
      "avg. f1:0.540552728873\n",
      "------------------\n",
      "\n",
      "\n",
      "XGBClassifier\n",
      "avg. Accuracy:0.609740687113\n",
      "avg. f1:0.52506961368\n",
      "------------------\n",
      "\n",
      "\n",
      "Best Classifier:\n",
      "      LogisticRegression\n",
      "\n",
      "\n",
      "Accuracy:0.616317844763\n"
     ]
    }
   ],
   "source": [
    "df = Auto_modeling(finalDf) #pass finalDf if using PCA as agrument, pass merged merged_df if not using PCA"
   ]
  },
  {
   "cell_type": "code",
   "execution_count": 388,
   "metadata": {},
   "outputs": [
    {
     "data": {
      "text/html": [
       "<div>\n",
       "<style scoped>\n",
       "    .dataframe tbody tr th:only-of-type {\n",
       "        vertical-align: middle;\n",
       "    }\n",
       "\n",
       "    .dataframe tbody tr th {\n",
       "        vertical-align: top;\n",
       "    }\n",
       "\n",
       "    .dataframe thead th {\n",
       "        text-align: right;\n",
       "    }\n",
       "</style>\n",
       "<table border=\"1\" class=\"dataframe\">\n",
       "  <thead>\n",
       "    <tr style=\"text-align: right;\">\n",
       "      <th>classifier</th>\n",
       "      <th>SVC</th>\n",
       "      <th>LogisticRegression</th>\n",
       "      <th>RandomForestClassifier</th>\n",
       "      <th>AdaBoostClassifier</th>\n",
       "      <th>KNeighborsClassifier</th>\n",
       "      <th>XGBClassifier</th>\n",
       "    </tr>\n",
       "  </thead>\n",
       "  <tbody>\n",
       "    <tr>\n",
       "      <th>accuracy</th>\n",
       "      <td>0.609754</td>\n",
       "      <td>0.616318</td>\n",
       "      <td>0.614418</td>\n",
       "      <td>0.566583</td>\n",
       "      <td>0.599412</td>\n",
       "      <td>0.609741</td>\n",
       "    </tr>\n",
       "    <tr>\n",
       "      <th>f1</th>\n",
       "      <td>0.512640</td>\n",
       "      <td>0.492054</td>\n",
       "      <td>0.519448</td>\n",
       "      <td>0.497487</td>\n",
       "      <td>0.540553</td>\n",
       "      <td>0.525070</td>\n",
       "    </tr>\n",
       "  </tbody>\n",
       "</table>\n",
       "</div>"
      ],
      "text/plain": [
       "classifier       SVC  LogisticRegression  RandomForestClassifier  \\\n",
       "accuracy    0.609754            0.616318                0.614418   \n",
       "f1          0.512640            0.492054                0.519448   \n",
       "\n",
       "classifier  AdaBoostClassifier  KNeighborsClassifier  XGBClassifier  \n",
       "accuracy              0.566583              0.599412       0.609741  \n",
       "f1                    0.497487              0.540553       0.525070  "
      ]
     },
     "execution_count": 388,
     "metadata": {},
     "output_type": "execute_result"
    }
   ],
   "source": [
    "df"
   ]
  },
  {
   "cell_type": "markdown",
   "metadata": {},
   "source": [
    "## Code for Creating new features"
   ]
  },
  {
   "cell_type": "code",
   "execution_count": 7,
   "metadata": {},
   "outputs": [],
   "source": [
    "import requests\n",
    "import urllib.request\n",
    "import time\n",
    "from bs4 import BeautifulSoup\n",
    "import pandas as pd\n",
    "import re"
   ]
  },
  {
   "cell_type": "code",
   "execution_count": 8,
   "metadata": {},
   "outputs": [
    {
     "data": {
      "text/html": [
       "<div>\n",
       "<style scoped>\n",
       "    .dataframe tbody tr th:only-of-type {\n",
       "        vertical-align: middle;\n",
       "    }\n",
       "\n",
       "    .dataframe tbody tr th {\n",
       "        vertical-align: top;\n",
       "    }\n",
       "\n",
       "    .dataframe thead th {\n",
       "        text-align: right;\n",
       "    }\n",
       "</style>\n",
       "<table border=\"1\" class=\"dataframe\">\n",
       "  <thead>\n",
       "    <tr style=\"text-align: right;\">\n",
       "      <th></th>\n",
       "      <th>source_url</th>\n",
       "      <th>source_url_processed</th>\n",
       "      <th>URL</th>\n",
       "      <th>fact</th>\n",
       "      <th>bias</th>\n",
       "    </tr>\n",
       "  </thead>\n",
       "  <tbody>\n",
       "    <tr>\n",
       "      <th>0</th>\n",
       "      <td>http://www.villagevoice.com/</td>\n",
       "      <td>villagevoice.com</td>\n",
       "      <td>http://mediabiasfactcheck.com/the-village-voice/</td>\n",
       "      <td>HIGH</td>\n",
       "      <td>left</td>\n",
       "    </tr>\n",
       "    <tr>\n",
       "      <th>1</th>\n",
       "      <td>https://insideclimatenews.org/</td>\n",
       "      <td>insideclimatenews.org</td>\n",
       "      <td>https://mediabiasfactcheck.com/insideclimate-n...</td>\n",
       "      <td>HIGH</td>\n",
       "      <td>left-center</td>\n",
       "    </tr>\n",
       "  </tbody>\n",
       "</table>\n",
       "</div>"
      ],
      "text/plain": [
       "                       source_url   source_url_processed  \\\n",
       "0    http://www.villagevoice.com/       villagevoice.com   \n",
       "1  https://insideclimatenews.org/  insideclimatenews.org   \n",
       "\n",
       "                                                 URL  fact         bias  \n",
       "0   http://mediabiasfactcheck.com/the-village-voice/  HIGH         left  \n",
       "1  https://mediabiasfactcheck.com/insideclimate-n...  HIGH  left-center  "
      ]
     },
     "execution_count": 8,
     "metadata": {},
     "output_type": "execute_result"
    }
   ],
   "source": [
    "corpus.head(2)"
   ]
  },
  {
   "cell_type": "code",
   "execution_count": 21,
   "metadata": {},
   "outputs": [],
   "source": [
    "has_terms_of_use =[]"
   ]
  },
  {
   "cell_type": "code",
   "execution_count": 22,
   "metadata": {},
   "outputs": [],
   "source": [
    "for url in corpus.source_url.values:\n",
    "    try:\n",
    "        response = requests.get(url, verify = False, timeout = 60)\n",
    "        soup = BeautifulSoup(response.text, 'html.parser')\n",
    "        has_terms_of_use.append((len(soup.body.findAll(text=re.compile('(terms of use)|(terms of service)',re.IGNORECASE))) > 0)+0)\n",
    "    except:\n",
    "        has_terms_of_use.append(-1)"
   ]
  },
  {
   "cell_type": "code",
   "execution_count": 32,
   "metadata": {},
   "outputs": [
    {
     "data": {
      "text/plain": [
       "1066"
      ]
     },
     "execution_count": 32,
     "metadata": {},
     "output_type": "execute_result"
    }
   ],
   "source": [
    "len(has_terms_of_use)"
   ]
  },
  {
   "cell_type": "code",
   "execution_count": 34,
   "metadata": {},
   "outputs": [],
   "source": [
    "ht = pd.DataFrame(has_terms_of_use)\n",
    "ht.to_csv(\"has_terms_of_use.csv\")"
   ]
  }
 ],
 "metadata": {
  "kernelspec": {
   "display_name": "Python 3",
   "language": "python",
   "name": "python3"
  },
  "language_info": {
   "codemirror_mode": {
    "name": "ipython",
    "version": 3
   },
   "file_extension": ".py",
   "mimetype": "text/x-python",
   "name": "python",
   "nbconvert_exporter": "python",
   "pygments_lexer": "ipython3",
   "version": "3.7.0"
  }
 },
 "nbformat": 4,
 "nbformat_minor": 2
}
